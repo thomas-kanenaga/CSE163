{
 "cells": [
  {
   "cell_type": "markdown",
   "metadata": {
    "colab_type": "text",
    "id": "Wp2Y-7aD_LwX"
   },
   "source": [
    "# scikit-learn\n",
    "Below are a list of functions/features you will most likely use on this assignment. This is not the only functions possible to use and these functions can actually be used in a lot more cool and complicated ways, but we are going to focus on the basics in this wordbank. For these examples, we will use the iris dataset provided by `seaborn`\n",
    "\n",
    "To run this document, you must first run the following cell(s)."
   ]
  },
  {
   "cell_type": "code",
   "execution_count": 4,
   "metadata": {
    "colab": {
     "base_uri": "https://localhost:8080/",
     "height": 1969
    },
    "colab_type": "code",
    "id": "hPqsZwyU_paR",
    "outputId": "957ea3c1-56e5-4e46-a45e-bcbbcf47611a"
   },
   "outputs": [
    {
     "data": {
      "text/html": [
       "<div>\n",
       "<style scoped>\n",
       "    .dataframe tbody tr th:only-of-type {\n",
       "        vertical-align: middle;\n",
       "    }\n",
       "\n",
       "    .dataframe tbody tr th {\n",
       "        vertical-align: top;\n",
       "    }\n",
       "\n",
       "    .dataframe thead th {\n",
       "        text-align: right;\n",
       "    }\n",
       "</style>\n",
       "<table border=\"1\" class=\"dataframe\">\n",
       "  <thead>\n",
       "    <tr style=\"text-align: right;\">\n",
       "      <th></th>\n",
       "      <th>sepal_length</th>\n",
       "      <th>sepal_width</th>\n",
       "      <th>petal_length</th>\n",
       "      <th>petal_width</th>\n",
       "      <th>species</th>\n",
       "    </tr>\n",
       "  </thead>\n",
       "  <tbody>\n",
       "    <tr>\n",
       "      <th>0</th>\n",
       "      <td>5.1</td>\n",
       "      <td>3.5</td>\n",
       "      <td>1.4</td>\n",
       "      <td>0.2</td>\n",
       "      <td>setosa</td>\n",
       "    </tr>\n",
       "    <tr>\n",
       "      <th>1</th>\n",
       "      <td>4.9</td>\n",
       "      <td>3.0</td>\n",
       "      <td>1.4</td>\n",
       "      <td>0.2</td>\n",
       "      <td>setosa</td>\n",
       "    </tr>\n",
       "    <tr>\n",
       "      <th>2</th>\n",
       "      <td>4.7</td>\n",
       "      <td>3.2</td>\n",
       "      <td>1.3</td>\n",
       "      <td>0.2</td>\n",
       "      <td>setosa</td>\n",
       "    </tr>\n",
       "    <tr>\n",
       "      <th>3</th>\n",
       "      <td>4.6</td>\n",
       "      <td>3.1</td>\n",
       "      <td>1.5</td>\n",
       "      <td>0.2</td>\n",
       "      <td>setosa</td>\n",
       "    </tr>\n",
       "    <tr>\n",
       "      <th>4</th>\n",
       "      <td>5.0</td>\n",
       "      <td>3.6</td>\n",
       "      <td>1.4</td>\n",
       "      <td>0.2</td>\n",
       "      <td>setosa</td>\n",
       "    </tr>\n",
       "  </tbody>\n",
       "</table>\n",
       "</div>"
      ],
      "text/plain": [
       "   sepal_length  sepal_width  petal_length  petal_width species\n",
       "0           5.1          3.5           1.4          0.2  setosa\n",
       "1           4.9          3.0           1.4          0.2  setosa\n",
       "2           4.7          3.2           1.3          0.2  setosa\n",
       "3           4.6          3.1           1.5          0.2  setosa\n",
       "4           5.0          3.6           1.4          0.2  setosa"
      ]
     },
     "execution_count": 4,
     "metadata": {},
     "output_type": "execute_result"
    }
   ],
   "source": [
    "import pandas as pd\n",
    "import seaborn as sns\n",
    "sns.set()\n",
    "\n",
    "iris = pd.read_csv('iris.csv')\n",
    "iris.head()"
   ]
  },
  {
   "cell_type": "code",
   "execution_count": 5,
   "metadata": {
    "colab": {},
    "colab_type": "code",
    "id": "aLbalN5bADjK"
   },
   "outputs": [],
   "source": [
    "# Commonly people call the features X and the labels y\n",
    "X = iris.loc[:, iris.columns != 'species']\n",
    "y = iris['species']"
   ]
  },
  {
   "cell_type": "markdown",
   "metadata": {
    "colab_type": "text",
    "id": "qsoq1Mv7_rK-"
   },
   "source": [
    "## `sklearn.model_selection.train_test_split`\n",
    "This function can split your dataset into train and test sets with sizes of the given ration. Returns a 4-tuple of `(train_data, test_data, train_label, test_label)`."
   ]
  },
  {
   "cell_type": "code",
   "execution_count": 6,
   "metadata": {
    "colab": {},
    "colab_type": "code",
    "id": "qUR2kVSM_rg8"
   },
   "outputs": [],
   "source": [
    "from sklearn.model_selection import train_test_split\n",
    "X_train, X_test, y_train, y_test = train_test_split(X, y, test_size=0.33)"
   ]
  },
  {
   "cell_type": "code",
   "execution_count": 7,
   "metadata": {
    "colab": {
     "base_uri": "https://localhost:8080/",
     "height": 51
    },
    "colab_type": "code",
    "id": "zfjsVKu_AkBN",
    "outputId": "f4d5365a-dd5e-4961-cb08-805a24bd9bc4"
   },
   "outputs": [
    {
     "name": "stdout",
     "output_type": "stream",
     "text": [
      "Train size: 100 (66.67%)\n",
      "Test size: 50 (33.33%)\n"
     ]
    }
   ],
   "source": [
    "print(f'Train size: {len(X_train)} ({len(X_train) * 100 / len(X):0.2f}%)')\n",
    "print(f'Test size: {len(X_test)} ({len(X_test) * 100 / len(X):0.2f}%)')"
   ]
  },
  {
   "cell_type": "markdown",
   "metadata": {
    "colab_type": "text",
    "id": "fhWUECH9B4Vb"
   },
   "source": [
    "## `sklearn.tree.DecisionTreeClassifier`\n",
    "A tree-based model to solve classification task (e.g. predicting a label like \"spam\" or \"not spam\"). See sections below for functions that can be used on any model."
   ]
  },
  {
   "cell_type": "code",
   "execution_count": 8,
   "metadata": {
    "colab": {},
    "colab_type": "code",
    "id": "FKIM6jurCBDK"
   },
   "outputs": [],
   "source": [
    "from sklearn.tree import DecisionTreeClassifier\n",
    "\n",
    "model = DecisionTreeClassifier()"
   ]
  },
  {
   "cell_type": "markdown",
   "metadata": {
    "colab_type": "text",
    "id": "2ijjPc23CWBR"
   },
   "source": [
    "## `sklearn.tree.DecisionTreeRegressor`\n",
    "A tree-based model to solve a regression task (e.g. predicting numerical quantity). See sections below for functions that can be used on any model."
   ]
  },
  {
   "cell_type": "code",
   "execution_count": 9,
   "metadata": {
    "colab": {},
    "colab_type": "code",
    "id": "sn3ZxWR8CXNe"
   },
   "outputs": [],
   "source": [
    "from sklearn.tree import DecisionTreeRegressor\n",
    "\n",
    "model = DecisionTreeRegressor()"
   ]
  },
  {
   "cell_type": "markdown",
   "metadata": {
    "colab_type": "text",
    "id": "2rKk3gIhClab"
   },
   "source": [
    "## Model: `fit`\n",
    "Every model has a `fit` function that takes a dataset (features and labels) and trains the model using that data. For this example, since we will be using the iris dataset which is predicting the class of iris from information about its petals, we will be using a classifier."
   ]
  },
  {
   "cell_type": "code",
   "execution_count": 10,
   "metadata": {
    "colab": {
     "base_uri": "https://localhost:8080/",
     "height": 119
    },
    "colab_type": "code",
    "id": "iTIIrt_jCsci",
    "outputId": "52826fc1-fb59-43d1-b6f7-196b17132b0f"
   },
   "outputs": [
    {
     "data": {
      "text/plain": [
       "DecisionTreeClassifier(ccp_alpha=0.0, class_weight=None, criterion='gini',\n",
       "                       max_depth=None, max_features=None, max_leaf_nodes=None,\n",
       "                       min_impurity_decrease=0.0, min_impurity_split=None,\n",
       "                       min_samples_leaf=1, min_samples_split=2,\n",
       "                       min_weight_fraction_leaf=0.0, presort='deprecated',\n",
       "                       random_state=None, splitter='best')"
      ]
     },
     "execution_count": 10,
     "metadata": {},
     "output_type": "execute_result"
    }
   ],
   "source": [
    "from sklearn.tree import DecisionTreeClassifier\n",
    "model = DecisionTreeClassifier()\n",
    "\n",
    "model.fit(X_train, y_train)"
   ]
  },
  {
   "cell_type": "markdown",
   "metadata": {
    "colab_type": "text",
    "id": "2CxrHLKuEBAJ"
   },
   "source": [
    "## Model: `predict`\n",
    "Every model has a `predict` function that takes a dataset (features) and predicts all the labels for that dataset. You must `fit` the model before you may `predict` with it. For this example, since we will be using the iris dataset which is predicting the class of iris from information about its petals, we will be using a classifier.\n",
    "\n",
    "We assume the previous cell weas the last to run."
   ]
  },
  {
   "cell_type": "code",
   "execution_count": 11,
   "metadata": {
    "colab": {},
    "colab_type": "code",
    "id": "F1SOe23-ELT-"
   },
   "outputs": [],
   "source": [
    "y_train_pred = model.predict(X_train)\n",
    "y_test_pred = model.predict(X_test)"
   ]
  },
  {
   "cell_type": "code",
   "execution_count": 20,
   "metadata": {},
   "outputs": [
    {
     "name": "stdout",
     "output_type": "stream",
     "text": [
      "0         setosa\n",
      "1         setosa\n",
      "2     versicolor\n",
      "3      virginica\n",
      "4      virginica\n",
      "         ...    \n",
      "95        setosa\n",
      "96     virginica\n",
      "97        setosa\n",
      "98     virginica\n",
      "99     virginica\n",
      "Length: 100, dtype: object\n"
     ]
    },
    {
     "data": {
      "text/plain": [
       "array(['setosa', 'setosa', 'versicolor', 'virginica', 'virginica',\n",
       "       'virginica', 'virginica', 'virginica', 'versicolor', 'virginica',\n",
       "       'virginica', 'virginica', 'setosa', 'setosa', 'versicolor',\n",
       "       'versicolor', 'setosa', 'versicolor', 'versicolor', 'setosa',\n",
       "       'versicolor', 'setosa', 'virginica', 'versicolor', 'versicolor',\n",
       "       'versicolor', 'versicolor', 'versicolor', 'versicolor',\n",
       "       'versicolor', 'versicolor', 'versicolor', 'versicolor',\n",
       "       'virginica', 'virginica', 'setosa', 'setosa', 'setosa',\n",
       "       'versicolor', 'virginica', 'versicolor', 'virginica', 'versicolor',\n",
       "       'virginica', 'setosa', 'virginica', 'setosa', 'setosa',\n",
       "       'versicolor', 'setosa', 'setosa', 'virginica', 'virginica',\n",
       "       'setosa', 'setosa', 'versicolor', 'versicolor', 'setosa', 'setosa',\n",
       "       'setosa', 'versicolor', 'versicolor', 'virginica', 'virginica',\n",
       "       'versicolor', 'virginica', 'virginica', 'virginica', 'setosa',\n",
       "       'setosa', 'versicolor', 'versicolor', 'setosa', 'versicolor',\n",
       "       'versicolor', 'setosa', 'versicolor', 'virginica', 'setosa',\n",
       "       'versicolor', 'versicolor', 'versicolor', 'setosa', 'virginica',\n",
       "       'setosa', 'versicolor', 'virginica', 'versicolor', 'versicolor',\n",
       "       'versicolor', 'virginica', 'setosa', 'virginica', 'setosa',\n",
       "       'versicolor', 'setosa', 'virginica', 'setosa', 'virginica',\n",
       "       'virginica'], dtype=object)"
      ]
     },
     "execution_count": 20,
     "metadata": {},
     "output_type": "execute_result"
    }
   ],
   "source": [
    "#pd.Series(y_train_pred)\n",
    "d = X_train.copy()\n",
    "d['actual'] = pd.Series(y_train_pred)\n",
    "print(pd.Series(y_train_pred))\n",
    "y_train_pred"
   ]
  },
  {
   "cell_type": "markdown",
   "metadata": {
    "colab_type": "text",
    "id": "vpZ5LU7PErm3"
   },
   "source": [
    "## `sklearn.metrics.accuracy_score`\n",
    "If you are solving a classification problem, a common metric for the quality of the model is the accuracy in terms of the ratio of examples it predicted the correct label. A higher accuracy means the model more closely fit the data.\n",
    "\n",
    "Mathematically, this is defined as \n",
    "\n",
    "$$Accuracy(y_{true}, y_{pred}) = \\sum_{i=1}^n \\textbf{1}\\left(y_{true}(i) = y_{pred}(i)\\right)$$\n",
    "\n",
    "where $y_{true}$ are the true labels, $y_{pred}$ are the predicted labels, $n$, is the number of examples, and $\\textbf{1}$ takes the value 1 if the condition inside is true, and 0 otherwise.\n",
    "\n",
    "Alternatively, you could write this in code as\n",
    "\n",
    "```python\n",
    "def accuraccy(y_true, y_pred):\n",
    "  correct = 0\n",
    "  for i in range(len(y_true)):\n",
    "    if y_true[i] == y_pred[i]:\n",
    "      correct += 1\n",
    "  return correct / len(y_true)\n",
    "```\n",
    "\n",
    "It's much simpler to have scikit-learn compute this for you like below (assumes the cells above have been run):"
   ]
  },
  {
   "cell_type": "code",
   "execution_count": 1,
   "metadata": {
    "colab": {
     "base_uri": "https://localhost:8080/",
     "height": 51
    },
    "colab_type": "code",
    "id": "5jamQuxEE05c",
    "outputId": "87eaba93-b8c0-4644-c2df-af9aff5702b5"
   },
   "outputs": [
    {
     "ename": "NameError",
     "evalue": "name 'y_train' is not defined",
     "output_type": "error",
     "traceback": [
      "\u001b[0;31m---------------------------------------------------------------------------\u001b[0m",
      "\u001b[0;31mNameError\u001b[0m                                 Traceback (most recent call last)",
      "\u001b[0;32m<ipython-input-1-db9f54d60cc6>\u001b[0m in \u001b[0;36m<module>\u001b[0;34m\u001b[0m\n\u001b[1;32m      1\u001b[0m \u001b[0;32mfrom\u001b[0m \u001b[0msklearn\u001b[0m\u001b[0;34m.\u001b[0m\u001b[0mmetrics\u001b[0m \u001b[0;32mimport\u001b[0m \u001b[0maccuracy_score\u001b[0m\u001b[0;34m\u001b[0m\u001b[0;34m\u001b[0m\u001b[0m\n\u001b[1;32m      2\u001b[0m \u001b[0;34m\u001b[0m\u001b[0m\n\u001b[0;32m----> 3\u001b[0;31m \u001b[0mprint\u001b[0m\u001b[0;34m(\u001b[0m\u001b[0;34m'Train accuracy:'\u001b[0m\u001b[0;34m,\u001b[0m \u001b[0maccuracy_score\u001b[0m\u001b[0;34m(\u001b[0m\u001b[0my_train\u001b[0m\u001b[0;34m,\u001b[0m \u001b[0my_train_pred\u001b[0m\u001b[0;34m)\u001b[0m\u001b[0;34m)\u001b[0m\u001b[0;34m\u001b[0m\u001b[0;34m\u001b[0m\u001b[0m\n\u001b[0m\u001b[1;32m      4\u001b[0m \u001b[0mprint\u001b[0m\u001b[0;34m(\u001b[0m\u001b[0;34m'Test accuracy:'\u001b[0m\u001b[0;34m,\u001b[0m \u001b[0maccuracy_score\u001b[0m\u001b[0;34m(\u001b[0m\u001b[0my_test\u001b[0m\u001b[0;34m,\u001b[0m \u001b[0my_test_pred\u001b[0m\u001b[0;34m)\u001b[0m\u001b[0;34m)\u001b[0m\u001b[0;34m\u001b[0m\u001b[0;34m\u001b[0m\u001b[0m\n",
      "\u001b[0;31mNameError\u001b[0m: name 'y_train' is not defined"
     ]
    }
   ],
   "source": [
    "from sklearn.metrics import accuracy_score\n",
    "\n",
    "print('Train accuracy:', accuracy_score(y_train, y_train_pred))\n",
    "print('Test accuracy:', accuracy_score(y_test, y_test_pred))"
   ]
  },
  {
   "cell_type": "markdown",
   "metadata": {
    "colab_type": "text",
    "id": "cQrh1Y0mG4eD"
   },
   "source": [
    "## `sklearn.metrics.mean_square_error`\n",
    "If you are solving a regression problem, a common metric for the quality of the model is the average value of squares of taking the difference between a prediction and the true value. This is called mean squared error or MSE. A lower MSE means the model more closely fit the data.\n",
    "\n",
    "Mathematically, this is defined as \n",
    "\n",
    "$$MSE(y_{true}, y_{pred})= \\frac{1}{n}\\sum_{i=1}^n \\left( y_{true}(i)-y_{pred}(i)\\right)^2$$\n",
    "\n",
    "where $y_{true}$ are the true values, $y_{pred}$ are the predicted values, $n$, is the number of examples. \n",
    "\n",
    "Alternatively, you could write this in code as\n",
    "\n",
    "```python\n",
    "def mse(y_true, y_pred):\n",
    "  total_error = 0\n",
    "  for i in range(len(y_true)):\n",
    "    total_error += (y_true[i] - y_pred[i]) ** 2\n",
    "  return total_error / len(y_true)\n",
    "```\n",
    "\n",
    "It's much simpler to have scikit-learn compute this for you like below. You can't actually run these cells since the data and predictions were made for a classification problem, but if they were used for regression you could then run."
   ]
  },
  {
   "cell_type": "code",
   "execution_count": null,
   "metadata": {
    "colab": {},
    "colab_type": "code",
    "id": "YcJOUl1JIGBn"
   },
   "outputs": [],
   "source": [
    "from sklearn.metrics import mean_squared_error\n",
    "\n",
    "print('Train MSE:', mean_squared_error(y_train, y_train_pred))\n",
    "print('Test MSE:', mean_square_error(y_test, y_test_pred))"
   ]
  }
 ],
 "metadata": {
  "colab": {
   "collapsed_sections": [],
   "name": "HW3 Reference.ipynb",
   "provenance": []
  },
  "kernelspec": {
   "display_name": "Python 3",
   "language": "python",
   "name": "python3"
  },
  "language_info": {
   "codemirror_mode": {
    "name": "ipython",
    "version": 3
   },
   "file_extension": ".py",
   "mimetype": "text/x-python",
   "name": "python",
   "nbconvert_exporter": "python",
   "pygments_lexer": "ipython3",
   "version": "3.8.2"
  }
 },
 "nbformat": 4,
 "nbformat_minor": 1
}
